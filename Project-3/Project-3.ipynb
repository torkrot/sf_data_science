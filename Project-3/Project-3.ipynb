{
 "cells": [
  {
   "cell_type": "markdown",
   "metadata": {},
   "source": [
    "# <center> Проект: EDA + Feature Engineering. Обучение модели."
   ]
  },
  {
   "cell_type": "markdown",
   "metadata": {},
   "source": [
    "### Библеотеки для работы с данными"
   ]
  },
  {
   "cell_type": "code",
   "execution_count": 83,
   "metadata": {},
   "outputs": [],
   "source": [
    "import pandas as pd\n",
    "import matplotlib.pyplot as plt # библиотека визуализации\n",
    "import seaborn as sns \n",
    "from scipy import stats # библиотека для расчетов\n",
    "import random\n",
    "import numpy as np\n",
    "import category_encoders as ce"
   ]
  },
  {
   "cell_type": "markdown",
   "metadata": {},
   "source": [
    "## Знакомство с DataFrame"
   ]
  },
  {
   "cell_type": "code",
   "execution_count": 84,
   "metadata": {},
   "outputs": [
    {
     "name": "stdout",
     "output_type": "stream",
     "text": [
      "<class 'pandas.core.frame.DataFrame'>\n",
      "RangeIndex: 386803 entries, 0 to 386802\n",
      "Data columns (total 17 columns):\n",
      " #   Column                                      Non-Null Count   Dtype  \n",
      "---  ------                                      --------------   -----  \n",
      " 0   hotel_address                               386803 non-null  object \n",
      " 1   additional_number_of_scoring                386803 non-null  int64  \n",
      " 2   review_date                                 386803 non-null  object \n",
      " 3   average_score                               386803 non-null  float64\n",
      " 4   hotel_name                                  386803 non-null  object \n",
      " 5   reviewer_nationality                        386803 non-null  object \n",
      " 6   negative_review                             386803 non-null  object \n",
      " 7   review_total_negative_word_counts           386803 non-null  int64  \n",
      " 8   total_number_of_reviews                     386803 non-null  int64  \n",
      " 9   positive_review                             386803 non-null  object \n",
      " 10  review_total_positive_word_counts           386803 non-null  int64  \n",
      " 11  total_number_of_reviews_reviewer_has_given  386803 non-null  int64  \n",
      " 12  reviewer_score                              386803 non-null  float64\n",
      " 13  tags                                        386803 non-null  object \n",
      " 14  days_since_review                           386803 non-null  object \n",
      " 15  lat                                         384355 non-null  float64\n",
      " 16  lng                                         384355 non-null  float64\n",
      "dtypes: float64(4), int64(5), object(8)\n",
      "memory usage: 50.2+ MB\n"
     ]
    }
   ],
   "source": [
    "data = pd.read_csv('hotels.csv')\n",
    "data.info()"
   ]
  },
  {
   "cell_type": "code",
   "execution_count": 85,
   "metadata": {},
   "outputs": [
    {
     "data": {
      "text/html": [
       "<div>\n",
       "<style scoped>\n",
       "    .dataframe tbody tr th:only-of-type {\n",
       "        vertical-align: middle;\n",
       "    }\n",
       "\n",
       "    .dataframe tbody tr th {\n",
       "        vertical-align: top;\n",
       "    }\n",
       "\n",
       "    .dataframe thead th {\n",
       "        text-align: right;\n",
       "    }\n",
       "</style>\n",
       "<table border=\"1\" class=\"dataframe\">\n",
       "  <thead>\n",
       "    <tr style=\"text-align: right;\">\n",
       "      <th></th>\n",
       "      <th>hotel_address</th>\n",
       "      <th>additional_number_of_scoring</th>\n",
       "      <th>review_date</th>\n",
       "      <th>average_score</th>\n",
       "      <th>hotel_name</th>\n",
       "      <th>reviewer_nationality</th>\n",
       "      <th>negative_review</th>\n",
       "      <th>review_total_negative_word_counts</th>\n",
       "      <th>total_number_of_reviews</th>\n",
       "      <th>positive_review</th>\n",
       "      <th>review_total_positive_word_counts</th>\n",
       "      <th>total_number_of_reviews_reviewer_has_given</th>\n",
       "      <th>reviewer_score</th>\n",
       "      <th>tags</th>\n",
       "      <th>days_since_review</th>\n",
       "      <th>lat</th>\n",
       "      <th>lng</th>\n",
       "    </tr>\n",
       "  </thead>\n",
       "  <tbody>\n",
       "    <tr>\n",
       "      <th>0</th>\n",
       "      <td>Stratton Street Mayfair Westminster Borough Lo...</td>\n",
       "      <td>581</td>\n",
       "      <td>2/19/2016</td>\n",
       "      <td>8.4</td>\n",
       "      <td>The May Fair Hotel</td>\n",
       "      <td>United Kingdom</td>\n",
       "      <td>Leaving</td>\n",
       "      <td>3</td>\n",
       "      <td>1994</td>\n",
       "      <td>Staff were amazing</td>\n",
       "      <td>4</td>\n",
       "      <td>7</td>\n",
       "      <td>10.0</td>\n",
       "      <td>[' Leisure trip ', ' Couple ', ' Studio Suite ...</td>\n",
       "      <td>531 day</td>\n",
       "      <td>51.507894</td>\n",
       "      <td>-0.143671</td>\n",
       "    </tr>\n",
       "    <tr>\n",
       "      <th>1</th>\n",
       "      <td>130 134 Southampton Row Camden London WC1B 5AF...</td>\n",
       "      <td>299</td>\n",
       "      <td>1/12/2017</td>\n",
       "      <td>8.3</td>\n",
       "      <td>Mercure London Bloomsbury Hotel</td>\n",
       "      <td>United Kingdom</td>\n",
       "      <td>poor breakfast</td>\n",
       "      <td>3</td>\n",
       "      <td>1361</td>\n",
       "      <td>location</td>\n",
       "      <td>2</td>\n",
       "      <td>14</td>\n",
       "      <td>6.3</td>\n",
       "      <td>[' Business trip ', ' Couple ', ' Standard Dou...</td>\n",
       "      <td>203 day</td>\n",
       "      <td>51.521009</td>\n",
       "      <td>-0.123097</td>\n",
       "    </tr>\n",
       "  </tbody>\n",
       "</table>\n",
       "</div>"
      ],
      "text/plain": [
       "                                       hotel_address  \\\n",
       "0  Stratton Street Mayfair Westminster Borough Lo...   \n",
       "1  130 134 Southampton Row Camden London WC1B 5AF...   \n",
       "\n",
       "   additional_number_of_scoring review_date  average_score  \\\n",
       "0                           581   2/19/2016            8.4   \n",
       "1                           299   1/12/2017            8.3   \n",
       "\n",
       "                        hotel_name reviewer_nationality  negative_review  \\\n",
       "0               The May Fair Hotel      United Kingdom          Leaving    \n",
       "1  Mercure London Bloomsbury Hotel      United Kingdom    poor breakfast   \n",
       "\n",
       "   review_total_negative_word_counts  total_number_of_reviews  \\\n",
       "0                                  3                     1994   \n",
       "1                                  3                     1361   \n",
       "\n",
       "       positive_review  review_total_positive_word_counts  \\\n",
       "0   Staff were amazing                                  4   \n",
       "1             location                                  2   \n",
       "\n",
       "   total_number_of_reviews_reviewer_has_given  reviewer_score  \\\n",
       "0                                           7            10.0   \n",
       "1                                          14             6.3   \n",
       "\n",
       "                                                tags days_since_review  \\\n",
       "0  [' Leisure trip ', ' Couple ', ' Studio Suite ...           531 day   \n",
       "1  [' Business trip ', ' Couple ', ' Standard Dou...           203 day   \n",
       "\n",
       "         lat       lng  \n",
       "0  51.507894 -0.143671  \n",
       "1  51.521009 -0.123097  "
      ]
     },
     "execution_count": 85,
     "metadata": {},
     "output_type": "execute_result"
    }
   ],
   "source": [
    "data.head(2)"
   ]
  },
  {
   "cell_type": "markdown",
   "metadata": {},
   "source": [
    "## Обработка строковых значений\n",
    "Главной задачей является, получить из строковых значений в дата фрейме информацию, которая поможет улучшить качество прогнозов модели. Так как модель не учиться на строковых значениях, нужно выделить главное и закодировать данные, что бы машина могла определить их наличие в дата-сете."
   ]
  },
  {
   "cell_type": "code",
   "execution_count": 86,
   "metadata": {},
   "outputs": [
    {
     "data": {
      "text/plain": [
       "United Kingdom    196774\n",
       "Barcelona          45132\n",
       "Paris              44830\n",
       "Amsterdam          43006\n",
       "Vienna             29178\n",
       "Milan              27883\n",
       "Name: country_hotel, dtype: int64"
      ]
     },
     "metadata": {},
     "output_type": "display_data"
    }
   ],
   "source": [
    "def get_days(days): #Функция для разделения строки \n",
    "    days = days.split(' ')\n",
    "    \n",
    "    return days[0]\n",
    "\n",
    "data['days_since_review'] = data['days_since_review'].apply(get_days)\n",
    "data['days_since_review'] = data['days_since_review'].astype(int)\n",
    "\n",
    "\n",
    "def get_country(country):  #\n",
    "    \n",
    "    country = country.split()\n",
    "    joined = ''\n",
    "\n",
    "    if country[-1] == 'Kingdom':\n",
    "      \n",
    "        joined = ' '.join([country[-2], country[-1]])\n",
    "            \n",
    "        return joined\n",
    "    else:\n",
    "        return country[-2]\n",
    "        \n",
    "data['country_hotel'] = data['hotel_address'].apply(get_country)\n",
    "\n",
    "display(data['country_hotel'].value_counts())\n"
   ]
  },
  {
   "cell_type": "markdown",
   "metadata": {},
   "source": [
    "После получения информации о городе в котором находиться отель, стоит задача закодировать эту информацию посредством проектирования новых принаков, которые будут являться маркером имея значения 0 или 1, обозначающим город."
   ]
  },
  {
   "cell_type": "code",
   "execution_count": 87,
   "metadata": {},
   "outputs": [],
   "source": [
    "#создание новых признаков принимающих значения 0 или 1 при помощи lambda функции\n",
    "data['is_UK'] = data['country_hotel'].apply(lambda x: 1 if x == 'United Kingdom' else 0)\n",
    "data['is_Barcel'] = data['country_hotel'].apply(lambda x: 1 if x == 'Barcelona' else 0)\n",
    "data['is_Paris'] = data['country_hotel'].apply(lambda x: 1 if x == 'Paris' else 0)\n",
    "data['is_Amster'] = data['country_hotel'].apply(lambda x: 1 if x == 'Amsterdam' else 0)\n",
    "data['is_Vienna'] = data['country_hotel'].apply(lambda x: 1 if x == 'Vienna' else 0)\n",
    "data['is_Milan'] = data['country_hotel'].apply(lambda x: 1 if x == 'Milan' else 0)"
   ]
  },
  {
   "cell_type": "markdown",
   "metadata": {},
   "source": [
    "Проверим наличие пустых значений в дата-фрейме."
   ]
  },
  {
   "cell_type": "code",
   "execution_count": 88,
   "metadata": {},
   "outputs": [
    {
     "data": {
      "text/plain": [
       "hotel_address                                 False\n",
       "additional_number_of_scoring                  False\n",
       "review_date                                   False\n",
       "average_score                                 False\n",
       "hotel_name                                    False\n",
       "reviewer_nationality                          False\n",
       "negative_review                               False\n",
       "review_total_negative_word_counts             False\n",
       "total_number_of_reviews                       False\n",
       "positive_review                               False\n",
       "review_total_positive_word_counts             False\n",
       "total_number_of_reviews_reviewer_has_given    False\n",
       "reviewer_score                                False\n",
       "tags                                          False\n",
       "days_since_review                             False\n",
       "lat                                            True\n",
       "lng                                            True\n",
       "country_hotel                                 False\n",
       "is_UK                                         False\n",
       "is_Barcel                                     False\n",
       "is_Paris                                      False\n",
       "is_Amster                                     False\n",
       "is_Vienna                                     False\n",
       "is_Milan                                      False\n",
       "dtype: bool"
      ]
     },
     "execution_count": 88,
     "metadata": {},
     "output_type": "execute_result"
    }
   ],
   "source": [
    "data.isna().any()"
   ]
  },
  {
   "cell_type": "markdown",
   "metadata": {},
   "source": [
    "Так как у нас есть NaN значения в параметрах отвечающих за координаты расположения отеля, я заполню эти значения при помощи функции fillna(), в аргументе которой указан метод заполнения ffill, этот метод будет брать значение из сообветсвующей не пустой ячейки, думаю таким образом можно лучше скоректировать данные не взяв среднее значение этих параметров."
   ]
  },
  {
   "cell_type": "code",
   "execution_count": 89,
   "metadata": {},
   "outputs": [],
   "source": [
    "data[['lat', 'lng']] = data.groupby('country_hotel')[['lat', 'lng']].fillna(method='ffill')"
   ]
  },
  {
   "cell_type": "markdown",
   "metadata": {},
   "source": [
    "Далее у нас признак в котором есть информация о том из какой страны приехал постоялец, таким образом вожно создать новый признак, который будет указывать, что постоялез является гостем в этой стране или нет. "
   ]
  },
  {
   "cell_type": "code",
   "execution_count": 90,
   "metadata": {},
   "outputs": [
    {
     "data": {
      "text/plain": [
       "0.67"
      ]
     },
     "execution_count": 90,
     "metadata": {},
     "output_type": "execute_result"
    }
   ],
   "source": [
    "#Что бы быть увереным что признаки не будут отличаться, мы уберем все ненужные пробелы из строковых значений\n",
    "data['reviewer_nationality'] = data['reviewer_nationality'].apply(lambda x: x.lstrip().rstrip())\n",
    "data['country_hotel'] = data['country_hotel'].apply(lambda x: x.lstrip().rstrip())\n",
    "#создание нового признаком посредством сравнения страны отеля и постояльца\n",
    "data['guest'] = data.apply(lambda x: True if x['reviewer_nationality'] != x['country_hotel'] else False, axis=1)\n",
    "#получаем информацию о процентном соотношение жителей страны с туристами\n",
    "round(data['guest'].mean(), 2)"
   ]
  },
  {
   "cell_type": "markdown",
   "metadata": {},
   "source": [
    "В базе храниться большое количество тегов указывающие на различные особенности нахождения в отеле, начиная от типа номера и количества постояльцев, до того приехал ли кто то с детьми ил животными.\n",
    "\n",
    "Конкретно в этом параметре содержиться 2368 тегов, каждый из которых можно так же закодировать и получить невероятный обьем не нужной информации, создав такое количество параметров, можно надолго затянуть процесс обучения.\n",
    "\n",
    "Для себя я выделил два параметра, это количество ночей проживания и тип поездки."
   ]
  },
  {
   "cell_type": "code",
   "execution_count": 91,
   "metadata": {},
   "outputs": [
    {
     "data": {
      "text/plain": [
       "2368"
      ]
     },
     "metadata": {},
     "output_type": "display_data"
    },
    {
     "data": {
      "text/plain": [
       "Leisure trip                         313593\n",
       "Submitted from a mobile device       230778\n",
       "Couple                               189212\n",
       "Stayed 1 night                       145373\n",
       "Stayed 2 nights                      100263\n",
       "                                      ...  \n",
       "Studio with Spa Access                    1\n",
       "Comfort Family Room                       1\n",
       "Junior Suite Free Wifi                    1\n",
       "Design Suite                              1\n",
       "Executive Double Room Non Smoking         1\n",
       "Name: new_tags, Length: 2368, dtype: int64"
      ]
     },
     "metadata": {},
     "output_type": "display_data"
    }
   ],
   "source": [
    "'''\n",
    "    Так как указаные пользователем теги находятся в списке, нужно их оттуда достать, \n",
    "    что бы было удобнее с ними работать. Я создал новый параметр new_tags, в котором\n",
    "    будут храниться теги в более удобном виде\n",
    "'''\n",
    "data['new_tags'] = data['tags'].apply(lambda x: x.strip('[]').split(','))\n",
    "data['new_tags']  = data['new_tags'].apply(lambda x: [y.strip(\"' '\") for y in x])\n",
    "\n",
    "display(data['new_tags'].explode().nunique())\n",
    "display(data['new_tags'].explode().value_counts())"
   ]
  },
  {
   "cell_type": "markdown",
   "metadata": {},
   "source": [
    "Далее идут функции которые достают значения хранящие в себе информацию о количестве ночей и типе поездки."
   ]
  },
  {
   "cell_type": "code",
   "execution_count": 92,
   "metadata": {},
   "outputs": [
    {
     "data": {
      "text/html": [
       "<div>\n",
       "<style scoped>\n",
       "    .dataframe tbody tr th:only-of-type {\n",
       "        vertical-align: middle;\n",
       "    }\n",
       "\n",
       "    .dataframe tbody tr th {\n",
       "        vertical-align: top;\n",
       "    }\n",
       "\n",
       "    .dataframe thead th {\n",
       "        text-align: right;\n",
       "    }\n",
       "</style>\n",
       "<table border=\"1\" class=\"dataframe\">\n",
       "  <thead>\n",
       "    <tr style=\"text-align: right;\">\n",
       "      <th></th>\n",
       "      <th>hotel_address</th>\n",
       "      <th>additional_number_of_scoring</th>\n",
       "      <th>review_date</th>\n",
       "      <th>average_score</th>\n",
       "      <th>hotel_name</th>\n",
       "      <th>reviewer_nationality</th>\n",
       "      <th>negative_review</th>\n",
       "      <th>review_total_negative_word_counts</th>\n",
       "      <th>total_number_of_reviews</th>\n",
       "      <th>positive_review</th>\n",
       "      <th>...</th>\n",
       "      <th>is_Barcel</th>\n",
       "      <th>is_Paris</th>\n",
       "      <th>is_Amster</th>\n",
       "      <th>is_Vienna</th>\n",
       "      <th>is_Milan</th>\n",
       "      <th>guest</th>\n",
       "      <th>nights</th>\n",
       "      <th>trip_Leisure</th>\n",
       "      <th>trip_Business</th>\n",
       "      <th>trip_No type</th>\n",
       "    </tr>\n",
       "  </thead>\n",
       "  <tbody>\n",
       "    <tr>\n",
       "      <th>0</th>\n",
       "      <td>Stratton Street Mayfair Westminster Borough Lo...</td>\n",
       "      <td>581</td>\n",
       "      <td>2/19/2016</td>\n",
       "      <td>8.4</td>\n",
       "      <td>The May Fair Hotel</td>\n",
       "      <td>United Kingdom</td>\n",
       "      <td>Leaving</td>\n",
       "      <td>3</td>\n",
       "      <td>1994</td>\n",
       "      <td>Staff were amazing</td>\n",
       "      <td>...</td>\n",
       "      <td>0</td>\n",
       "      <td>0</td>\n",
       "      <td>0</td>\n",
       "      <td>0</td>\n",
       "      <td>0</td>\n",
       "      <td>False</td>\n",
       "      <td>2</td>\n",
       "      <td>1</td>\n",
       "      <td>0</td>\n",
       "      <td>0</td>\n",
       "    </tr>\n",
       "    <tr>\n",
       "      <th>1</th>\n",
       "      <td>130 134 Southampton Row Camden London WC1B 5AF...</td>\n",
       "      <td>299</td>\n",
       "      <td>1/12/2017</td>\n",
       "      <td>8.3</td>\n",
       "      <td>Mercure London Bloomsbury Hotel</td>\n",
       "      <td>United Kingdom</td>\n",
       "      <td>poor breakfast</td>\n",
       "      <td>3</td>\n",
       "      <td>1361</td>\n",
       "      <td>location</td>\n",
       "      <td>...</td>\n",
       "      <td>0</td>\n",
       "      <td>0</td>\n",
       "      <td>0</td>\n",
       "      <td>0</td>\n",
       "      <td>0</td>\n",
       "      <td>False</td>\n",
       "      <td>1</td>\n",
       "      <td>0</td>\n",
       "      <td>1</td>\n",
       "      <td>0</td>\n",
       "    </tr>\n",
       "    <tr>\n",
       "      <th>2</th>\n",
       "      <td>151 bis Rue de Rennes 6th arr 75006 Paris France</td>\n",
       "      <td>32</td>\n",
       "      <td>10/18/2016</td>\n",
       "      <td>8.9</td>\n",
       "      <td>Legend Saint Germain by Elegancia</td>\n",
       "      <td>China</td>\n",
       "      <td>No kettle in room</td>\n",
       "      <td>6</td>\n",
       "      <td>406</td>\n",
       "      <td>No Positive</td>\n",
       "      <td>...</td>\n",
       "      <td>0</td>\n",
       "      <td>1</td>\n",
       "      <td>0</td>\n",
       "      <td>0</td>\n",
       "      <td>0</td>\n",
       "      <td>True</td>\n",
       "      <td>3</td>\n",
       "      <td>1</td>\n",
       "      <td>0</td>\n",
       "      <td>0</td>\n",
       "    </tr>\n",
       "    <tr>\n",
       "      <th>3</th>\n",
       "      <td>216 Avenue Jean Jaures 19th arr 75019 Paris Fr...</td>\n",
       "      <td>34</td>\n",
       "      <td>9/22/2015</td>\n",
       "      <td>7.5</td>\n",
       "      <td>Mercure Paris 19 Philharmonie La Villette</td>\n",
       "      <td>United Kingdom</td>\n",
       "      <td>No Negative</td>\n",
       "      <td>0</td>\n",
       "      <td>607</td>\n",
       "      <td>Friendly staff quiet comfortable room spotles...</td>\n",
       "      <td>...</td>\n",
       "      <td>0</td>\n",
       "      <td>1</td>\n",
       "      <td>0</td>\n",
       "      <td>0</td>\n",
       "      <td>0</td>\n",
       "      <td>True</td>\n",
       "      <td>1</td>\n",
       "      <td>1</td>\n",
       "      <td>0</td>\n",
       "      <td>0</td>\n",
       "    </tr>\n",
       "    <tr>\n",
       "      <th>4</th>\n",
       "      <td>Molenwerf 1 1014 AG Amsterdam Netherlands</td>\n",
       "      <td>914</td>\n",
       "      <td>3/5/2016</td>\n",
       "      <td>8.5</td>\n",
       "      <td>Golden Tulip Amsterdam West</td>\n",
       "      <td>Poland</td>\n",
       "      <td>Torn sheets</td>\n",
       "      <td>4</td>\n",
       "      <td>7586</td>\n",
       "      <td>The staff was very friendly and helpful Break...</td>\n",
       "      <td>...</td>\n",
       "      <td>0</td>\n",
       "      <td>0</td>\n",
       "      <td>1</td>\n",
       "      <td>0</td>\n",
       "      <td>0</td>\n",
       "      <td>True</td>\n",
       "      <td>6</td>\n",
       "      <td>0</td>\n",
       "      <td>1</td>\n",
       "      <td>0</td>\n",
       "    </tr>\n",
       "    <tr>\n",
       "      <th>...</th>\n",
       "      <td>...</td>\n",
       "      <td>...</td>\n",
       "      <td>...</td>\n",
       "      <td>...</td>\n",
       "      <td>...</td>\n",
       "      <td>...</td>\n",
       "      <td>...</td>\n",
       "      <td>...</td>\n",
       "      <td>...</td>\n",
       "      <td>...</td>\n",
       "      <td>...</td>\n",
       "      <td>...</td>\n",
       "      <td>...</td>\n",
       "      <td>...</td>\n",
       "      <td>...</td>\n",
       "      <td>...</td>\n",
       "      <td>...</td>\n",
       "      <td>...</td>\n",
       "      <td>...</td>\n",
       "      <td>...</td>\n",
       "      <td>...</td>\n",
       "    </tr>\n",
       "    <tr>\n",
       "      <th>386798</th>\n",
       "      <td>9 Knaresborough Place Kensington and Chelsea L...</td>\n",
       "      <td>107</td>\n",
       "      <td>4/19/2017</td>\n",
       "      <td>9.0</td>\n",
       "      <td>Hotel Moonlight</td>\n",
       "      <td>France</td>\n",
       "      <td>No Negative</td>\n",
       "      <td>0</td>\n",
       "      <td>617</td>\n",
       "      <td>Tr s proche du metro Earl s court</td>\n",
       "      <td>...</td>\n",
       "      <td>0</td>\n",
       "      <td>0</td>\n",
       "      <td>0</td>\n",
       "      <td>0</td>\n",
       "      <td>0</td>\n",
       "      <td>True</td>\n",
       "      <td>2</td>\n",
       "      <td>1</td>\n",
       "      <td>0</td>\n",
       "      <td>0</td>\n",
       "    </tr>\n",
       "    <tr>\n",
       "      <th>386799</th>\n",
       "      <td>Landstra er Hauptstra e 155 03 Landstra e 1030...</td>\n",
       "      <td>272</td>\n",
       "      <td>2/13/2017</td>\n",
       "      <td>8.4</td>\n",
       "      <td>BEST WESTERN PLUS Amedia Wien</td>\n",
       "      <td>Turkey</td>\n",
       "      <td>No Negative</td>\n",
       "      <td>0</td>\n",
       "      <td>3224</td>\n",
       "      <td>The bed was so comfy I stayed with my boyfrie...</td>\n",
       "      <td>...</td>\n",
       "      <td>0</td>\n",
       "      <td>0</td>\n",
       "      <td>0</td>\n",
       "      <td>1</td>\n",
       "      <td>0</td>\n",
       "      <td>True</td>\n",
       "      <td>4</td>\n",
       "      <td>1</td>\n",
       "      <td>0</td>\n",
       "      <td>0</td>\n",
       "    </tr>\n",
       "    <tr>\n",
       "      <th>386800</th>\n",
       "      <td>29 31 Gower Street Camden London WC1E 6HG Unit...</td>\n",
       "      <td>457</td>\n",
       "      <td>2/7/2016</td>\n",
       "      <td>6.8</td>\n",
       "      <td>Bloomsbury Palace Hotel</td>\n",
       "      <td>Netherlands</td>\n",
       "      <td>room is really small but guess is normal in L...</td>\n",
       "      <td>12</td>\n",
       "      <td>2751</td>\n",
       "      <td>great location simple check in out nice shower</td>\n",
       "      <td>...</td>\n",
       "      <td>0</td>\n",
       "      <td>0</td>\n",
       "      <td>0</td>\n",
       "      <td>0</td>\n",
       "      <td>0</td>\n",
       "      <td>True</td>\n",
       "      <td>1</td>\n",
       "      <td>0</td>\n",
       "      <td>1</td>\n",
       "      <td>0</td>\n",
       "    </tr>\n",
       "    <tr>\n",
       "      <th>386801</th>\n",
       "      <td>31 Great Cumberland Place Westminster Borough ...</td>\n",
       "      <td>365</td>\n",
       "      <td>5/21/2017</td>\n",
       "      <td>8.1</td>\n",
       "      <td>The Marble Arch London</td>\n",
       "      <td>United Arab Emirates</td>\n",
       "      <td>No Negative</td>\n",
       "      <td>0</td>\n",
       "      <td>1567</td>\n",
       "      <td>Location and very comfy bed</td>\n",
       "      <td>...</td>\n",
       "      <td>0</td>\n",
       "      <td>0</td>\n",
       "      <td>0</td>\n",
       "      <td>0</td>\n",
       "      <td>0</td>\n",
       "      <td>True</td>\n",
       "      <td>2</td>\n",
       "      <td>1</td>\n",
       "      <td>0</td>\n",
       "      <td>0</td>\n",
       "    </tr>\n",
       "    <tr>\n",
       "      <th>386802</th>\n",
       "      <td>25 Courtfield Gardens Kensington and Chelsea L...</td>\n",
       "      <td>222</td>\n",
       "      <td>8/5/2016</td>\n",
       "      <td>9.0</td>\n",
       "      <td>The Nadler Kensington</td>\n",
       "      <td>Australia</td>\n",
       "      <td>Patio outside could have been cleaned of alga...</td>\n",
       "      <td>20</td>\n",
       "      <td>1209</td>\n",
       "      <td>Beds comfortable Pillows also good Homely fee...</td>\n",
       "      <td>...</td>\n",
       "      <td>0</td>\n",
       "      <td>0</td>\n",
       "      <td>0</td>\n",
       "      <td>0</td>\n",
       "      <td>0</td>\n",
       "      <td>True</td>\n",
       "      <td>4</td>\n",
       "      <td>1</td>\n",
       "      <td>0</td>\n",
       "      <td>0</td>\n",
       "    </tr>\n",
       "  </tbody>\n",
       "</table>\n",
       "<p>386803 rows × 28 columns</p>\n",
       "</div>"
      ],
      "text/plain": [
       "                                            hotel_address  \\\n",
       "0       Stratton Street Mayfair Westminster Borough Lo...   \n",
       "1       130 134 Southampton Row Camden London WC1B 5AF...   \n",
       "2        151 bis Rue de Rennes 6th arr 75006 Paris France   \n",
       "3       216 Avenue Jean Jaures 19th arr 75019 Paris Fr...   \n",
       "4               Molenwerf 1 1014 AG Amsterdam Netherlands   \n",
       "...                                                   ...   \n",
       "386798  9 Knaresborough Place Kensington and Chelsea L...   \n",
       "386799  Landstra er Hauptstra e 155 03 Landstra e 1030...   \n",
       "386800  29 31 Gower Street Camden London WC1E 6HG Unit...   \n",
       "386801  31 Great Cumberland Place Westminster Borough ...   \n",
       "386802  25 Courtfield Gardens Kensington and Chelsea L...   \n",
       "\n",
       "        additional_number_of_scoring review_date  average_score  \\\n",
       "0                                581   2/19/2016            8.4   \n",
       "1                                299   1/12/2017            8.3   \n",
       "2                                 32  10/18/2016            8.9   \n",
       "3                                 34   9/22/2015            7.5   \n",
       "4                                914    3/5/2016            8.5   \n",
       "...                              ...         ...            ...   \n",
       "386798                           107   4/19/2017            9.0   \n",
       "386799                           272   2/13/2017            8.4   \n",
       "386800                           457    2/7/2016            6.8   \n",
       "386801                           365   5/21/2017            8.1   \n",
       "386802                           222    8/5/2016            9.0   \n",
       "\n",
       "                                       hotel_name  reviewer_nationality  \\\n",
       "0                              The May Fair Hotel        United Kingdom   \n",
       "1                 Mercure London Bloomsbury Hotel        United Kingdom   \n",
       "2               Legend Saint Germain by Elegancia                 China   \n",
       "3       Mercure Paris 19 Philharmonie La Villette        United Kingdom   \n",
       "4                     Golden Tulip Amsterdam West                Poland   \n",
       "...                                           ...                   ...   \n",
       "386798                            Hotel Moonlight                France   \n",
       "386799              BEST WESTERN PLUS Amedia Wien                Turkey   \n",
       "386800                    Bloomsbury Palace Hotel           Netherlands   \n",
       "386801                     The Marble Arch London  United Arab Emirates   \n",
       "386802                      The Nadler Kensington             Australia   \n",
       "\n",
       "                                          negative_review  \\\n",
       "0                                                Leaving    \n",
       "1                                          poor breakfast   \n",
       "2                                      No kettle in room    \n",
       "3                                             No Negative   \n",
       "4                                            Torn sheets    \n",
       "...                                                   ...   \n",
       "386798                                        No Negative   \n",
       "386799                                        No Negative   \n",
       "386800   room is really small but guess is normal in L...   \n",
       "386801                                        No Negative   \n",
       "386802   Patio outside could have been cleaned of alga...   \n",
       "\n",
       "        review_total_negative_word_counts  total_number_of_reviews  \\\n",
       "0                                       3                     1994   \n",
       "1                                       3                     1361   \n",
       "2                                       6                      406   \n",
       "3                                       0                      607   \n",
       "4                                       4                     7586   \n",
       "...                                   ...                      ...   \n",
       "386798                                  0                      617   \n",
       "386799                                  0                     3224   \n",
       "386800                                 12                     2751   \n",
       "386801                                  0                     1567   \n",
       "386802                                 20                     1209   \n",
       "\n",
       "                                          positive_review  ...  is_Barcel  \\\n",
       "0                                      Staff were amazing  ...          0   \n",
       "1                                                location  ...          0   \n",
       "2                                             No Positive  ...          0   \n",
       "3        Friendly staff quiet comfortable room spotles...  ...          0   \n",
       "4        The staff was very friendly and helpful Break...  ...          0   \n",
       "...                                                   ...  ...        ...   \n",
       "386798                 Tr s proche du metro Earl s court   ...          0   \n",
       "386799   The bed was so comfy I stayed with my boyfrie...  ...          0   \n",
       "386800     great location simple check in out nice shower  ...          0   \n",
       "386801                        Location and very comfy bed  ...          0   \n",
       "386802   Beds comfortable Pillows also good Homely fee...  ...          0   \n",
       "\n",
       "        is_Paris  is_Amster  is_Vienna  is_Milan  guest nights  trip_Leisure  \\\n",
       "0              0          0          0         0  False      2             1   \n",
       "1              0          0          0         0  False      1             0   \n",
       "2              1          0          0         0   True      3             1   \n",
       "3              1          0          0         0   True      1             1   \n",
       "4              0          1          0         0   True      6             0   \n",
       "...          ...        ...        ...       ...    ...    ...           ...   \n",
       "386798         0          0          0         0   True      2             1   \n",
       "386799         0          0          1         0   True      4             1   \n",
       "386800         0          0          0         0   True      1             0   \n",
       "386801         0          0          0         0   True      2             1   \n",
       "386802         0          0          0         0   True      4             1   \n",
       "\n",
       "        trip_Business  trip_No type  \n",
       "0                   0             0  \n",
       "1                   1             0  \n",
       "2                   0             0  \n",
       "3                   0             0  \n",
       "4                   1             0  \n",
       "...               ...           ...  \n",
       "386798              0             0  \n",
       "386799              0             0  \n",
       "386800              1             0  \n",
       "386801              0             0  \n",
       "386802              0             0  \n",
       "\n",
       "[386803 rows x 28 columns]"
      ]
     },
     "execution_count": 92,
     "metadata": {},
     "output_type": "execute_result"
    }
   ],
   "source": [
    "\n",
    "def get_night(nigh):\n",
    "    for tag in nigh:\n",
    "        tags = tag.split()\n",
    "        if tags[0] == 'Stayed':\n",
    "            return int(tags[1])\n",
    "    return 0\n",
    "\n",
    "data['nights'] = data['new_tags'].apply(get_night)\n",
    "data['nights'] = data['nights'].astype(int)\n",
    "\n",
    "def get_trip(trip):\n",
    "    for tag in trip:\n",
    "        t_type = tag.split()\n",
    "        if 'trip' in t_type:\n",
    "            return t_type[0]\n",
    "    return 'No type'\n",
    "\n",
    "data['trip'] = data['new_tags'].apply(get_trip)\n",
    "#Однократное кодирование признака trip\n",
    "encoding = ce.OneHotEncoder(cols=['trip'], use_cat_names=True)\n",
    "trip_bin = encoding.fit_transform(data['trip'])\n",
    "data = pd.concat([data, trip_bin], axis=1)\n",
    "#удаление признаков \n",
    "data.drop(['tags', 'new_tags', 'trip'], axis=1)\n"
   ]
  },
  {
   "cell_type": "markdown",
   "metadata": {},
   "source": [
    "Далее идет самая интересная для меня часть в которой была реализована работа библеотеки nltk, данная библеотека может распозновать текст, а конкретно в этом случае высчитывать метрику количества негативных и положительных слов.\n",
    "\n",
    "Так как в базе есть параметры в которых пользователь написал свои положительные и отрицательные отзывы, можно при помощи данной библеотеки получить общую метрику этих отзывов.\n",
    "\n",
    "Таким образом можно получить хороший числовой параметр который будет означать общее впечатление постояльца, параметр принимает значение от -1 до 1. Если значение ближе к -1, это будет означать весьма негативное отношение пользователя к своему проживанию в отеле, а если значение ближе к 1, то это значит, что общее впечатление осталось положительным."
   ]
  },
  {
   "cell_type": "code",
   "execution_count": 93,
   "metadata": {},
   "outputs": [
    {
     "name": "stderr",
     "output_type": "stream",
     "text": [
      "[nltk_data] Downloading package vader_lexicon to\n",
      "[nltk_data]     C:\\Users\\user\\AppData\\Roaming\\nltk_data...\n",
      "[nltk_data]   Package vader_lexicon is already up-to-date!\n"
     ]
    }
   ],
   "source": [
    "import nltk\n",
    "from nltk.sentiment.vader import SentimentIntensityAnalyzer\n",
    "import time\n",
    "nltk.downloader.download('vader_lexicon')\n",
    "\n",
    "sent_analyzer = SentimentIntensityAnalyzer()\n",
    "#функция принимающаа значение отзыва пользователя\n",
    "def get_compound(review):\n",
    "    return sent_analyzer.polarity_scores(review)['compound']\n",
    "#создание параметра который будет брать общее значение метрики отзыва\n",
    "data['compound_review'] = data.apply(lambda row: get_compound(row['positive_review'] + row['negative_review']), axis=1)"
   ]
  },
  {
   "cell_type": "code",
   "execution_count": 94,
   "metadata": {},
   "outputs": [
    {
     "data": {
      "text/plain": [
       "32"
      ]
     },
     "execution_count": 94,
     "metadata": {},
     "output_type": "execute_result"
    }
   ],
   "source": [
    "data.shape[1]"
   ]
  },
  {
   "cell_type": "markdown",
   "metadata": {},
   "source": [
    "### Очистка данных\n",
    "После преобразования и проектирования я получил 38 признаков, часть из которых является строковыми значениями. От них надо избавиться, что бы модель могла обучаться. Так же нужно избавиться от дубликатов, выбросов и сильной корреляции."
   ]
  },
  {
   "cell_type": "code",
   "execution_count": 95,
   "metadata": {},
   "outputs": [],
   "source": [
    "#Переменная в которой будут храниться все параметры типа object\n",
    "object_columns = [s for s in data.columns if data[s].dtypes == 'object']\n",
    "#Удаление параметров\n",
    "data.drop(object_columns, axis = 1, inplace=True)"
   ]
  },
  {
   "cell_type": "code",
   "execution_count": 96,
   "metadata": {},
   "outputs": [
    {
     "data": {
      "text/plain": [
       "False    386485\n",
       "True        318\n",
       "dtype: int64"
      ]
     },
     "execution_count": 96,
     "metadata": {},
     "output_type": "execute_result"
    }
   ],
   "source": [
    "#Поверяем количество дубликатов\n",
    "data_dupl = data.duplicated()\n",
    "data_dupl.value_counts()"
   ]
  },
  {
   "cell_type": "markdown",
   "metadata": {},
   "source": [
    "### Удаление дубликатов"
   ]
  },
  {
   "cell_type": "code",
   "execution_count": 97,
   "metadata": {},
   "outputs": [],
   "source": [
    "data = data.drop_duplicates().reset_index(drop=True)"
   ]
  },
  {
   "cell_type": "markdown",
   "metadata": {},
   "source": [
    "## Проверка мультиколлинеарности"
   ]
  },
  {
   "cell_type": "code",
   "execution_count": 98,
   "metadata": {},
   "outputs": [
    {
     "data": {
      "text/plain": [
       "<AxesSubplot: >"
      ]
     },
     "execution_count": 98,
     "metadata": {},
     "output_type": "execute_result"
    },
    {
     "data": {
      "image/png": "[encoded data removed]",
      "text/plain": [
       "<Figure size 1000x1000 with 2 Axes>"
      ]
     },
     "metadata": {},
     "output_type": "display_data"
    }
   ],
   "source": [
    "datacorr = data.corr(method='spearman')\n",
    "\n",
    "# График\n",
    "plt.figure(figsize=(10, 10)) \n",
    "sns.heatmap(\n",
    "    data=datacorr[abs(datacorr) >= 0.7], \n",
    "    annot=True, \n",
    "    linewidths=.5, \n",
    "    cmap='coolwarm'\n",
    ")"
   ]
  },
  {
   "cell_type": "markdown",
   "metadata": {},
   "source": [
    "Просмотрев график корреляции спирмена видно 3 признака имеющие между собой сильную корреляцию.\n",
    "\n",
    "Признаки additional_number_of_scoring и total_number_of_reviews имеют сильную корреляцию так как имеют почти, что одинаковое количество значений.\n",
    "\n",
    "Что насчет признаком is_UK и lng, то тут я не знаю как это прокоментировать, возможно в ходе заполнения данных каким то образом значения которыми был заполнен признак lng начали склонятся в отрицательную сторону от признака is_UK.\n",
    "\n",
    "Ну а корреляция признаков trip_Leisure и trip_Business естественна, так как они полностью противоположны друг другу."
   ]
  },
  {
   "cell_type": "markdown",
   "metadata": {},
   "source": [
    "## Обучение машины"
   ]
  },
  {
   "cell_type": "code",
   "execution_count": 99,
   "metadata": {},
   "outputs": [],
   "source": [
    "# Разбиваем датафрейм на части, необходимые для обучения и тестирования модели  \n",
    "# Х - данные с информацией об отелях, у - целевая переменная (рейтинги отелей)  \n",
    "X = data.drop(['reviewer_score'], axis = 1)  \n",
    "y = data['reviewer_score'] "
   ]
  },
  {
   "cell_type": "code",
   "execution_count": 100,
   "metadata": {},
   "outputs": [],
   "source": [
    "# Загружаем специальный инструмент для разбивки:  \n",
    "from sklearn.model_selection import train_test_split  "
   ]
  },
  {
   "cell_type": "code",
   "execution_count": 101,
   "metadata": {},
   "outputs": [],
   "source": [
    "# Наборы данных с меткой \"train\" будут использоваться для обучения модели, \"test\" - для тестирования.  \n",
    "# Для тестирования мы будем использовать 25% от исходного датасета.  \n",
    "X_train, X_test, y_train, y_test = train_test_split(X, y, test_size=0.25, random_state=42)"
   ]
  },
  {
   "cell_type": "code",
   "execution_count": 102,
   "metadata": {},
   "outputs": [],
   "source": [
    "# Импортируем необходимые библиотеки:  \n",
    "from sklearn.ensemble import RandomForestRegressor # инструмент для создания и обучения модели  \n",
    "from sklearn import metrics # инструменты для оценки точности модели  \n",
    "  \n",
    "# Создаём модель  \n",
    "regr = RandomForestRegressor(n_estimators=100)  \n",
    "      \n",
    "# Обучаем модель на тестовом наборе данных  \n",
    "regr.fit(X_train, y_train)  \n",
    "      \n",
    "# Используем обученную модель для предсказания рейтинга отелей в тестовой выборке.  \n",
    "# Предсказанные значения записываем в переменную y_pred  \n",
    "y_pred = regr.predict(X_test) "
   ]
  },
  {
   "cell_type": "code",
   "execution_count": 103,
   "metadata": {},
   "outputs": [
    {
     "name": "stdout",
     "output_type": "stream",
     "text": [
      "MAPE: 0.12888151502379172\n"
     ]
    }
   ],
   "source": [
    "# Сравниваем предсказанные значения (y_pred) с реальными (y_test), и смотрим насколько они отличаются  \n",
    "# Метрика называется Mean Absolute Percentage Error (MAPE) и показывает среднюю абсолютную процентную ошибку предсказанных значений от фактических.  \n",
    "print('MAPE:', metrics.mean_absolute_percentage_error(y_test, y_pred))"
   ]
  },
  {
   "cell_type": "markdown",
   "metadata": {},
   "source": [
    "## Вывод:\n",
    "\n",
    "В ходе всех преобразований с данными был достигнут показатель МАРЕ в 13%, что на 0.5% меньше чем если вообще не обрабатывать данные. Из этого можно сделать вывод, что я плохо справился с поставленной задачей, так как на самом деле сделал не так уж и много.\n",
    "\n",
    "Так же хочется отметить, что мой локальный компьютер с большим трудом обрабатывает, кодирует и преобразует новые параметры в DataFrame, что я влется проблемой, так как только на обучение модели копмьютер тратит не меньше 10 минут.\n",
    "\n",
    "Уверен данный показатель может составить и 10% при должных преобразованиях данных и создании более эффективных признаков."
   ]
  }
 ],
 "metadata": {
  "kernelspec": {
   "display_name": "Python 3.9.10 64-bit",
   "language": "python",
   "name": "python3"
  },
  "language_info": {
   "codemirror_mode": {
    "name": "ipython",
    "version": 3
   },
   "file_extension": ".py",
   "mimetype": "text/x-python",
   "name": "python",
   "nbconvert_exporter": "python",
   "pygments_lexer": "ipython3",
   "version": "3.9.10"
  },
  "orig_nbformat": 4,
  "vscode": {
   "interpreter": {
    "hash": "82ed002fa2d4956f5c6aec99bcefe0f73a9f79882f3c9e2319b14958a5896ac5"
   }
  }
 },
 "nbformat": 4,
 "nbformat_minor": 2
}
